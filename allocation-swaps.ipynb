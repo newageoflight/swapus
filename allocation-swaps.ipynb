{
 "metadata": {
  "language_info": {
   "codemirror_mode": {
    "name": "ipython",
    "version": 3
   },
   "file_extension": ".py",
   "mimetype": "text/x-python",
   "name": "python",
   "nbconvert_exporter": "python",
   "pygments_lexer": "ipython3",
   "version": "3.8.5"
  },
  "orig_nbformat": 2,
  "kernelspec": {
   "name": "python385jvsc74a57bd066c748daf4a3cf86db17aa4af2c5d86c847a985ffbbc1057860a1e1f17711fb5",
   "display_name": "Python 3.8.5 64-bit"
  }
 },
 "nbformat": 4,
 "nbformat_minor": 2,
 "cells": [
  {
   "source": [
    "# The best way to swap your allocations (graph theory for medical students)\n",
    "\n",
    "**Problem:** Internship allocation season has come around and some people aren't happy with their results! On the forums, people are advertising swaps for hospitals to see if they can have a chance at getting into a better one. Can you find an optimal set of swaps (multi-step swaps are allowed) that makes as many people as happy as possible?\n",
    "\n",
    "**Input:** number of hospitals, list of swaps in the format `have    want`\n",
    "\n",
    "```\n",
    "8\n",
    "1 5\n",
    "2 4\n",
    "3 6\n",
    "...\n",
    "```\n",
    "\n",
    "**Output:** the best set of swap cycles (by line number)\n",
    "```\n",
    "Swap these 3: 1->2->3->1\n",
    "Swap these 2: 1->2->1\n",
    "...\n",
    "```"
   ],
   "cell_type": "markdown",
   "metadata": {}
  },
  {
   "source": [
    "## Solution\n",
    "\n",
    "Each hospital can be seen as a node on a [directed graph (or digraph)](https://mathinsight.org/definition/directed_graph#:~:text=A%20directed%20graph%20is%20graph,digraph%20or%20a%20directed%20network.). Every swap is a directed edge from `have` to `want`, so our input is an edge list.\n",
    "\n",
    "Let's first convert the edge list to an [adjacency matrix](http://ceadserv1.nku.edu/longa//classes/mat385_resources/docs/matrix.html)."
   ],
   "cell_type": "markdown",
   "metadata": {}
  },
  {
   "cell_type": "code",
   "execution_count": 1,
   "metadata": {},
   "outputs": [
    {
     "output_type": "stream",
     "name": "stdout",
     "text": [
      "[[0. 0. 0. 0. 0. 0. 0. 0.]\n [0. 0. 0. 2. 2. 0. 0. 0.]\n [0. 1. 0. 0. 0. 0. 0. 0.]\n [0. 1. 1. 0. 0. 0. 0. 0.]\n [0. 2. 0. 0. 0. 0. 0. 0.]\n [0. 0. 0. 0. 0. 0. 0. 0.]\n [0. 0. 0. 0. 0. 0. 0. 0.]\n [0. 0. 0. 0. 0. 0. 0. 0.]]\n{(5, 2): [0, 1], (3, 2): [2], (4, 2): [3], (4, 3): [4], (2, 4): [5, 6], (2, 5): [7, 8]}\n"
     ]
    }
   ],
   "source": [
    "import numpy as np\n",
    "\n",
    "position_count = 8\n",
    "swap_sequences = [(5, 2), (5, 2), (3, 2), (4, 2), (4, 3), (2, 4), (2, 4), (2, 5), (2, 5)]\n",
    "\n",
    "swap_matrix = np.zeros((position_count, position_count))\n",
    "swap_dict = dict()\n",
    "for number, swap in enumerate(swap_sequences):\n",
    "    adj_matrix = np.zeros((position_count, position_count))\n",
    "    have, want = swap\n",
    "    if not swap_dict.get((have, want)):\n",
    "        swap_dict[(have, want)] = [number]\n",
    "    else:\n",
    "        swap_dict[(have, want)].append(number)\n",
    "    adj_matrix[have-1, want-1] = 1\n",
    "    swap_matrix += adj_matrix\n",
    "\n",
    "print(swap_matrix)\n",
    "print(swap_dict)"
   ]
  },
  {
   "source": [
    "Equal and opposite swaps (e.g. 2->5, 5->2) should cancel each other out."
   ],
   "cell_type": "markdown",
   "metadata": {}
  },
  {
   "cell_type": "code",
   "execution_count": 2,
   "metadata": {},
   "outputs": [
    {
     "output_type": "stream",
     "name": "stdout",
     "text": [
      "Swap these 2: 3 -> 6 -> 3\nSwap these 2: 1 -> 8 -> 1\nSwap these 2: 0 -> 7 -> 0\n[[0. 0. 0. 0. 0. 0. 0. 0.]\n [0. 0. 0. 1. 0. 0. 0. 0.]\n [0. 1. 0. 0. 0. 0. 0. 0.]\n [0. 0. 1. 0. 0. 0. 0. 0.]\n [0. 0. 0. 0. 0. 0. 0. 0.]\n [0. 0. 0. 0. 0. 0. 0. 0.]\n [0. 0. 0. 0. 0. 0. 0. 0.]\n [0. 0. 0. 0. 0. 0. 0. 0.]]\n"
     ]
    }
   ],
   "source": [
    "for i in range(1, position_count):\n",
    "    for j in range(i):\n",
    "        while swap_matrix[i,j] > 0 and swap_matrix[j,i] > 0:\n",
    "            first = swap_dict[(i+1,j+1)].pop()\n",
    "            second = swap_dict[(j+1,i+1)].pop()\n",
    "            print(\"Swap these 2: {0} -> {1} -> {0}\".format(first, second))\n",
    "            swap_matrix[i,j] -= 1\n",
    "            swap_matrix[j,i] -= 1\n",
    "\n",
    "print(swap_matrix)"
   ]
  },
  {
   "source": [
    "So that covers simple swaps... what about multi-way swaps?\n",
    "\n",
    "## Complex (multi-way) swaps\n",
    "\n",
    "To ensure that multi-way swaps are best covered we actually need to go back to the beginning.\n",
    "\n",
    "First we have to segment the graph into strongly connected components using [Tarjan's algorithm](https://www.youtube.com/watch?v=wUgWX0nc4NY)."
   ],
   "cell_type": "markdown",
   "metadata": {}
  },
  {
   "cell_type": "code",
   "execution_count": 3,
   "metadata": {
    "tags": []
   },
   "outputs": [],
   "source": [
    "# runs in linear time O(E+V)\n",
    "# def tarjan_scc(graph: np.array):\n",
    "#     unvisited = -1"
   ]
  },
  {
   "source": [
    "Now, within each strongly connected component, we find all cycles using [Johnson's algorithm](https://www.youtube.com/watch?v=johyrWospv0)."
   ],
   "cell_type": "markdown",
   "metadata": {}
  },
  {
   "cell_type": "code",
   "execution_count": 8,
   "metadata": {},
   "outputs": [
    {
     "output_type": "error",
     "ename": "IndexError",
     "evalue": "pop from empty list",
     "traceback": [
      "\u001b[1;31m---------------------------------------------------------------------------\u001b[0m",
      "\u001b[1;31mIndexError\u001b[0m                                Traceback (most recent call last)",
      "\u001b[1;32m<ipython-input-8-97a071ce5af8>\u001b[0m in \u001b[0;36m<module>\u001b[1;34m\u001b[0m\n\u001b[0;32m     60\u001b[0m     \u001b[1;32mreturn\u001b[0m \u001b[0mall_cycles\u001b[0m\u001b[1;33m\u001b[0m\u001b[1;33m\u001b[0m\u001b[0m\n\u001b[0;32m     61\u001b[0m \u001b[1;33m\u001b[0m\u001b[0m\n\u001b[1;32m---> 62\u001b[1;33m \u001b[0mjohnson_cycles\u001b[0m\u001b[1;33m(\u001b[0m\u001b[0mswap_matrix\u001b[0m\u001b[1;33m,\u001b[0m \u001b[0mposition_count\u001b[0m\u001b[1;33m)\u001b[0m\u001b[1;33m\u001b[0m\u001b[1;33m\u001b[0m\u001b[0m\n\u001b[0m",
      "\u001b[1;32m<ipython-input-8-97a071ce5af8>\u001b[0m in \u001b[0;36mjohnson_cycles\u001b[1;34m(graph, n)\u001b[0m\n\u001b[0;32m     21\u001b[0m             \u001b[1;32mwhile\u001b[0m \u001b[0mchild_count_stack\u001b[0m\u001b[1;33m[\u001b[0m\u001b[1;36m0\u001b[0m\u001b[1;33m]\u001b[0m \u001b[1;33m==\u001b[0m \u001b[1;36m0\u001b[0m\u001b[1;33m:\u001b[0m\u001b[1;33m\u001b[0m\u001b[1;33m\u001b[0m\u001b[0m\n\u001b[0;32m     22\u001b[0m                 \u001b[0mchild_count_stack\u001b[0m\u001b[1;33m.\u001b[0m\u001b[0mpop\u001b[0m\u001b[1;33m(\u001b[0m\u001b[1;36m0\u001b[0m\u001b[1;33m)\u001b[0m\u001b[1;33m\u001b[0m\u001b[1;33m\u001b[0m\u001b[0m\n\u001b[1;32m---> 23\u001b[1;33m                 \u001b[0mremoval\u001b[0m \u001b[1;33m=\u001b[0m \u001b[0mtrace_stack\u001b[0m\u001b[1;33m.\u001b[0m\u001b[0mpop\u001b[0m\u001b[1;33m(\u001b[0m\u001b[1;36m0\u001b[0m\u001b[1;33m)\u001b[0m\u001b[1;33m\u001b[0m\u001b[1;33m\u001b[0m\u001b[0m\n\u001b[0m\u001b[0;32m     24\u001b[0m                 \u001b[1;32mif\u001b[0m \u001b[0mcan_lead_to_cycle\u001b[0m\u001b[1;33m[\u001b[0m\u001b[0mremoval\u001b[0m\u001b[1;33m]\u001b[0m\u001b[1;33m:\u001b[0m\u001b[1;33m\u001b[0m\u001b[1;33m\u001b[0m\u001b[0m\n\u001b[0;32m     25\u001b[0m                     \u001b[1;31m# if a node has been completely explored and was on a cycle, it can be unblocked\u001b[0m\u001b[1;33m\u001b[0m\u001b[1;33m\u001b[0m\u001b[1;33m\u001b[0m\u001b[0m\n",
      "\u001b[1;31mIndexError\u001b[0m: pop from empty list"
     ]
    }
   ],
   "source": [
    "# iterative implementation of johnson's algorithm using stacks\n",
    "# time complexity: O(E+V)*(c+1) (where c is the number of cycles)\n",
    "# space complexity: O(E+V+s) (where s is the sum of all cycles' length)\n",
    "def johnson_cycles(graph: np.array, n: int):\n",
    "    can_lead_to_cycle = [False]*n\n",
    "    all_cycles = list()\n",
    "    trace_stack = list()\n",
    "    node_stack = list()\n",
    "    child_count_stack = [0]*n\n",
    "    blocked_nodes = set()\n",
    "    unblock_map = dict()\n",
    "    # start at the lowest numbered node and go up\n",
    "    for start_node in range(n):\n",
    "        cycles = list()\n",
    "        node_stack.insert(0, start_node)\n",
    "        while node_stack:\n",
    "            # get the current node\n",
    "            current_node = node_stack.pop(0)\n",
    "            # if this node is part of a set of children we are recursing through, count down the children\n",
    "            # otherwise (i.e. 0 children), go back up\n",
    "            while child_count_stack[0] == 0:\n",
    "                child_count_stack.pop(0)\n",
    "                removal = trace_stack.pop(0)\n",
    "                if can_lead_to_cycle[removal]:\n",
    "                    # if a node has been completely explored and was on a cycle, it can be unblocked\n",
    "                    # since this node is now unblocked we have to check for everything else that could be unblocked\n",
    "                    all_to_unblock = [removal]\n",
    "                    next_unblock = unblock_map.pop(all_to_unblock[-1])\n",
    "                    while next_unblock:\n",
    "                        all_to_unblock.append(next_unblock)\n",
    "                        next_unblock = unblock_map.pop(all_to_unblock[-1])\n",
    "                    blocked_nodes -= set(all_to_unblock)\n",
    "            else:\n",
    "                child_count_stack[0] -= 1\n",
    "            # add to trace and blocked\n",
    "            trace_stack.insert(0, current_node)\n",
    "            print(trace_stack)\n",
    "            blocked_nodes.add(current_node)\n",
    "            # add the children to the exploration stack\n",
    "            children = [i for i in range(n) if graph[current_node,i]]\n",
    "            # do not explore any children that\n",
    "            # - form a cycle (add trace to cycles list)\n",
    "            # - are blocked\n",
    "            explorable_children = len(children)\n",
    "            to_explore = []\n",
    "            for c in children:\n",
    "                if c == start_node:\n",
    "                    explorable_children -= 1\n",
    "                    can_lead_to_cycle[current_node] = True\n",
    "                    cycles.append(trace_stack)\n",
    "                elif c in blocked_nodes:\n",
    "                    explorable_children -= 1\n",
    "                else:\n",
    "                    to_explore.append(c)\n",
    "            node_stack = to_explore + node_stack\n",
    "            if explorable_children < 0:\n",
    "                raise ValueError(\"Explorable children is less than 0!\")\n",
    "            child_count_stack.insert(0, explorable_children)\n",
    "        all_cycles += cycles\n",
    "    return all_cycles\n",
    "\n",
    "johnson_cycles(swap_matrix, position_count)"
   ]
  },
  {
   "source": [
    "Choose the combination of cycles that will cover the most available edges (i.e. fill the most swap requests)."
   ],
   "cell_type": "markdown",
   "metadata": {}
  },
  {
   "cell_type": "code",
   "execution_count": 5,
   "metadata": {},
   "outputs": [],
   "source": [
    "def cycle_edge_cover(graph, cycles):\n",
    "    pass"
   ]
  },
  {
   "source": [
    "This algorithm features in my new web app for swapping placements, hospitals, etc., called [SwapUs](swapus.app).\n",
    "\n",
    "Create your own swap board and trust the algorithm to help find the best swap arrangement for the most number of people!"
   ],
   "cell_type": "markdown",
   "metadata": {}
  }
 ]
}